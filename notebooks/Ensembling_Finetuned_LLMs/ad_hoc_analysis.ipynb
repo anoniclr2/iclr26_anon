{
 "cells": [
  {
   "cell_type": "markdown",
   "id": "1e2b36b5",
   "metadata": {},
   "source": [
    "### Testing if the output files are according to expectations\n"
   ]
  },
  {
   "cell_type": "code",
   "execution_count": 4,
   "id": "6c858c90",
   "metadata": {},
   "outputs": [
    {
     "name": "stdout",
     "output_type": "stream",
     "text": [
      "  dataset  seed       method                  ensemble_type  ensemble_size  \\\n",
      "0    imdb     0  convex_comb       greedy_unique_5_baseline              5   \n",
      "1    imdb     0  convex_comb             greedy_50_baseline             50   \n",
      "2    imdb     0  convex_comb        greedy_50_temp_baseline             50   \n",
      "3    imdb     0  convex_comb  greedy_unique_5_temp_baseline              5   \n",
      "4    imdb     0  convex_comb     greedy_unique_5_post_calib              5   \n",
      "\n",
      "   ensemble_unique_size  nll_test        c1   c2  epi_scalar  \\\n",
      "0                     5  0.127246       NaN  NaN         NaN   \n",
      "1                    21  0.124141       NaN  NaN         NaN   \n",
      "2                    21  0.124080  1.016327  NaN         NaN   \n",
      "3                     5  0.126814  0.961224  NaN         NaN   \n",
      "4                     5  0.126739  0.895027  0.0         1.0   \n",
      "\n",
      "                                     experiment_path  \n",
      "0  llm_experiments_data/arrays/imdb_0_convex_comb...  \n",
      "1  llm_experiments_data/arrays/imdb_0_convex_comb...  \n",
      "2  llm_experiments_data/arrays/imdb_0_convex_comb...  \n",
      "3  llm_experiments_data/arrays/imdb_0_convex_comb...  \n",
      "4  llm_experiments_data/arrays/imdb_0_convex_comb...  \n"
     ]
    },
    {
     "data": {
      "text/plain": [
       "(25000, 2)"
      ]
     },
     "execution_count": 4,
     "metadata": {},
     "output_type": "execute_result"
    }
   ],
   "source": [
    "# read llm_experimental_results_mini_neurips.csv\n",
    "import pandas as pd\n",
    "import numpy as np\n",
    "\n",
    "df_mini = pd.read_csv('llm_experiments_data/llm_experimental_results_mini_neurips.csv')\n",
    "print(df_mini.head(5))\n",
    "\n",
    "#read file from path\n",
    "path = df_mini['experiment_path'][0]\n",
    "\n",
    "#load np from path\n",
    "npzfiles = np.load(path)\n",
    "#['ensemble_indices', 'ensemble_probs', 'labels']\n",
    "npzfiles['ensemble_probs'].shape\n",
    "\n"
   ]
  }
 ],
 "metadata": {
  "kernelspec": {
   "display_name": "base",
   "language": "python",
   "name": "python3"
  },
  "language_info": {
   "codemirror_mode": {
    "name": "ipython",
    "version": 3
   },
   "file_extension": ".py",
   "mimetype": "text/x-python",
   "name": "python",
   "nbconvert_exporter": "python",
   "pygments_lexer": "ipython3",
   "version": "3.11.9"
  }
 },
 "nbformat": 4,
 "nbformat_minor": 5
}
